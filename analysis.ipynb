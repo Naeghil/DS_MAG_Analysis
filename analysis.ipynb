{
 "cells": [
  {
   "cell_type": "code",
   "execution_count": null,
   "metadata": {},
   "outputs": [],
   "source": [
    "import pandas as pd\n",
    "from dateutil.parser import parse\n",
    "import numpy as np\n",
    "from multiprocessing import Pool\n",
    "import seaborn as sns\n",
    "import matplotlib as mpl\n",
    "import matplotlib.pyplot as plt\n",
    "import statsmodels.tsa.api as tsa\n",
    "import statsmodels.graphics.tsaplots as tsp\n",
    "import prophet as pr\n",
    "import pmdarima as pmda\n",
    "import scipy as sp\n",
    "\n",
    "sns.set()"
   ]
  },
  {
   "cell_type": "markdown",
   "metadata": {},
   "source": [
    "# 1. Loading Data"
   ]
  },
  {
   "cell_type": "markdown",
   "metadata": {},
   "source": [
    "## 1.1. Raw Data"
   ]
  },
  {
   "cell_type": "code",
   "execution_count": null,
   "metadata": {},
   "outputs": [],
   "source": [
    "cits = pd.read_csv(\"data/CitationsTS\", parse_dates=[\"Date\"], index_col=\"Date\")\n",
    "cits.AdjCitations = cits.AdjCitations*100\n",
    "cits = cits[cits.index.year > 1979]\n",
    "refs = pd.read_csv(\"data/ReferencesTS\", parse_dates=[\"Date\"], index_col=\"Date\")\n",
    "refs = refs[refs.index.year > 1979]"
   ]
  },
  {
   "cell_type": "code",
   "execution_count": null,
   "metadata": {},
   "outputs": [],
   "source": [
    "fields = cits.Field.unique().tolist()\n",
    "fields = [ f for f in fields if f != \"overall\" ]\n",
    "fields.insert(0, \"overall\")\n",
    "conditions = cits.Condition.unique().tolist()"
   ]
  },
  {
   "cell_type": "markdown",
   "metadata": {},
   "source": [
    "## 1.2. Isolating TimeSeries"
   ]
  },
  {
   "cell_type": "code",
   "execution_count": null,
   "metadata": {},
   "outputs": [],
   "source": [
    "tmp = cits[[\"AdjCitations\", \"Field\", \"Condition\"]]\n",
    "ts = tmp.loc[:,[]].reset_index().drop_duplicates().set_index(\"Date\")\n",
    "\n",
    "for c in conditions:\n",
    "    for f in fields:\n",
    "        x = tmp[(tmp[\"Condition\"] == c) & (tmp[\"Field\"] == f)]\n",
    "        ts[(c,f)] = x.AdjCitations\n",
    "ts = ts.sort_index()\n",
    "ts.columns = pd.MultiIndex.from_tuples(ts.columns.tolist())\n",
    "years = getattr(ts.index, \"year\").unique().tolist()"
   ]
  },
  {
   "cell_type": "markdown",
   "metadata": {},
   "source": [
    "# 2. Preliminary Visualization"
   ]
  },
  {
   "cell_type": "markdown",
   "metadata": {},
   "source": [
    "## 2.1. Full Time Series"
   ]
  },
  {
   "cell_type": "markdown",
   "metadata": {},
   "source": [
    "It is evident from the first two cells that Citations and References are similarly trended. It is more useful then to confine the analysis to the Adjusted Citations only."
   ]
  },
  {
   "cell_type": "code",
   "execution_count": null,
   "metadata": {},
   "outputs": [],
   "source": [
    "# Visualize Citations\n",
    "for c in conditions:\n",
    "    fig = plt.figure(figsize = (18, 6), constrained_layout = True)\n",
    "    ax = fig.add_subplot(111)\n",
    "    for f in fields:\n",
    "        tmp = cits[(cits[\"Condition\"] == c) & (cits[\"Field\"] == f)]\n",
    "        ax.plot(tmp.index, tmp.Citations, label = f)\n",
    "    ax.legend()\n",
    "    ax.set_title(\"Citations - \"+c)\n",
    "    plt.savefig(\"plots/rawTS/RawCitations-\"+c)"
   ]
  },
  {
   "cell_type": "code",
   "execution_count": null,
   "metadata": {},
   "outputs": [],
   "source": [
    "# Visualize References\n",
    "fig = plt.figure(figsize = (18, 6), constrained_layout=True)\n",
    "ax = fig.add_subplot(111)\n",
    "for f in fields:\n",
    "    tmp = refs[refs[\"Field\"] == f]\n",
    "    ax.plot(tmp.index, tmp.References, label = f)\n",
    "ax.legend()\n",
    "ax.set_title(\"References\")\n",
    "plt.savefig(\"plots/rawTS/RawReferences\")"
   ]
  },
  {
   "cell_type": "code",
   "execution_count": null,
   "metadata": {},
   "outputs": [],
   "source": [
    "# Visualize %Citations\n",
    "for c in conditions:\n",
    "    fig = plt.figure(figsize = (18, 6), constrained_layout = True)\n",
    "    ax = fig.add_subplot(111)\n",
    "    for f in fields:\n",
    "        ax.plot(ts[c][f], label = f)\n",
    "    ax.legend()\n",
    "    ax.set_title(\"Citations % - \"+c)\n",
    "    plt.savefig(\"plots/rawTS/Citations%-\"+c)"
   ]
  },
  {
   "cell_type": "markdown",
   "metadata": {},
   "source": [
    "## 2.2. Separate Visualizations"
   ]
  },
  {
   "cell_type": "markdown",
   "metadata": {},
   "source": [
    "### 2.2.1. Time Series"
   ]
  },
  {
   "cell_type": "code",
   "execution_count": null,
   "metadata": {},
   "outputs": [],
   "source": [
    "# Comparative visualisation\n",
    "ylims = [(0,3), (0,75), (0,75)]\n",
    "for k, c in enumerate(conditions):\n",
    "    fig, axs = plt.subplots(5,4, figsize = (18,12), constrained_layout = True)\n",
    "    for i,ax in enumerate(axs.flatten()):\n",
    "        ts[c][fields[i]].plot(\n",
    "            ax = ax, title = fields[i], legend=False, \n",
    "            color = (\"r\" if i == 0 else \"b\"))\n",
    "        ax.set_ylim(ylims[k])\n",
    "        ax.set_xlabel(\"\")\n",
    "    fig.suptitle(\"Citations % - \"+c, fontsize = 16)\n",
    "    fig.savefig(\"plots/rawTS/compare/complete_\"+c)"
   ]
  },
  {
   "cell_type": "code",
   "execution_count": null,
   "metadata": {},
   "outputs": [],
   "source": [
    "# Comparative visualisation last 5 years\n",
    "ylims = [(0,3), (0,75), (0,75)]\n",
    "for k, c in enumerate(conditions):\n",
    "    fig, axs = plt.subplots(5,4, figsize = (18,12), constrained_layout = True)\n",
    "    for i,ax in enumerate(axs.flatten()):\n",
    "        tmp = ts[c][fields[i]]\n",
    "        tmp[tmp.index.year >2014].plot(\n",
    "            ax = ax, title = fields[i], legend=False, \n",
    "            color = (\"r\" if i == 0 else \"b\"))\n",
    "        ax.set_ylim(ylims[k])\n",
    "        ax.set_xlabel(\"\")\n",
    "    fig.suptitle(\"Citations % - \"+c, fontsize = 16)\n",
    "    fig.savefig(\"plots/rawTS/compare/5years_\"+c)"
   ]
  },
  {
   "cell_type": "markdown",
   "metadata": {},
   "source": [
    "### 2.2.2. Seasonal Plots"
   ]
  },
  {
   "cell_type": "code",
   "execution_count": null,
   "metadata": {},
   "outputs": [],
   "source": [
    "clrs = np.random.choice(list(mpl.colors.XKCD_COLORS.keys()), len(years), replace=False)\n",
    "for c in conditions:\n",
    "    fig, axs = plt.subplots(ncols = 4, nrows = 5, figsize = (18, 12), constrained_layout = True)\n",
    "    for i, ax in enumerate(axs.flatten()):\n",
    "        piv = pd.pivot_table(ts[c],[fields[i]], getattr(ts.index, \"month\"), getattr(ts.index, \"year\"))\n",
    "        piv.plot(legend = False, color = clrs, ax = ax, title = fields[i])\n",
    "        for k,y in enumerate(years):\n",
    "            ax.text(piv.shape[0]+.1, piv[-1:].values[0][k], y, color = clrs[k])\n",
    "        ax.set_xlabel(\"\")\n",
    "    fig.suptitle(\"Citations % - \"+c, fontsize = 16)\n",
    "    fig.savefig(\"plots/rawTS/compare/seasonal_\"+c)"
   ]
  },
  {
   "cell_type": "markdown",
   "metadata": {},
   "source": [
    "# 3. Preliminary Analysis"
   ]
  },
  {
   "cell_type": "markdown",
   "metadata": {},
   "source": [
    "## 3.1. STL decomposition"
   ]
  },
  {
   "cell_type": "code",
   "execution_count": null,
   "metadata": {},
   "outputs": [],
   "source": [
    "def plot_decompose(dec, tit, axs):\n",
    "    axs[0].set_title(tit)\n",
    "    dec.observed.plot(ax = axs[0], ylabel = \"Observed\")\n",
    "    axs[0].set_xticklabels([])\n",
    "    axs[0].set_xlabel(None)\n",
    "    dec.trend.plot(ax = axs[1], ylabel = \"Trend\")\n",
    "    axs[1].set_xticklabels([])\n",
    "    axs[1].set_xlabel(None)\n",
    "    dec.seasonal.plot(ax = axs[2], ylabel = \"Season\")\n",
    "    axs[2].set_xticklabels([])\n",
    "    axs[2].set_xlabel(None)\n",
    "    dec.resid.plot(ax = axs[3], ylabel = \"Resid\")"
   ]
  },
  {
   "cell_type": "code",
   "execution_count": null,
   "metadata": {},
   "outputs": [],
   "source": [
    "# Decomposition\n",
    "decs = {}\n",
    "for c in conditions:\n",
    "    decs[c] = {}\n",
    "    for f in fields:\n",
    "        decs[c][f] = tsa.STL(ts[c][f], robust = True).fit()"
   ]
  },
  {
   "cell_type": "code",
   "execution_count": null,
   "metadata": {},
   "outputs": [],
   "source": [
    "# Visualization\n",
    "for c in conditions:\n",
    "    fig, axs = plt.subplots(len(fields), 4, figsize=(24, 24), constrained_layout = True)\n",
    "    a = axs.T.flatten()\n",
    "    for i,f in enumerate(fields):\n",
    "        plot_decompose(decs[c][f], f, a[i*4:(i+1)*4])\n",
    "    fig.suptitle(c,fontsize = 16)\n",
    "    fig.savefig(\"plots/STL/naive_\"+c)"
   ]
  },
  {
   "cell_type": "code",
   "execution_count": null,
   "metadata": {},
   "outputs": [],
   "source": [
    "# Separate visualization\n",
    "for c in conditions:\n",
    "    for f in fields:\n",
    "        fig , axs = plt.subplots(4,1, figsize=(10, 7), constrained_layout = True)\n",
    "        plot_decompose(decs[c][f], f, axs)\n",
    "        fig.suptitle(c,fontsize = 12)\n",
    "        fig.savefig(\"plots/STL/naive/\"+c+\"-\"+f)"
   ]
  },
  {
   "cell_type": "markdown",
   "metadata": {},
   "source": [
    "We save trends, seasonality, and residuals in different dataframes"
   ]
  },
  {
   "cell_type": "code",
   "execution_count": null,
   "metadata": {},
   "outputs": [],
   "source": [
    "ptrends = pd.DataFrame().reindex_like(ts)\n",
    "pseasons = pd.DataFrame().reindex_like(ts)\n",
    "premains = pd.DataFrame().reindex_like(ts)\n",
    "for c in conditions:\n",
    "    for f in fields:\n",
    "        ptrends.loc[:,(c,f)] = decs[c][f].trend\n",
    "        pseasons.loc[:,(c,f)] = decs[c][f].seasonal\n",
    "        premains.loc[:,(c,f)] = decs[c][f].resid"
   ]
  },
  {
   "cell_type": "markdown",
   "metadata": {},
   "source": [
    "## 3.2. FFT Seasonalities Detection"
   ]
  },
  {
   "cell_type": "code",
   "execution_count": null,
   "metadata": {},
   "outputs": [],
   "source": [
    "freqs = {}\n",
    "for c in conditions:\n",
    "    fig, axs = plt.subplots(4,5, figsize = (16,8), constrained_layout = True)\n",
    "    freqs[c] = {}\n",
    "    for i, ax in enumerate(axs.flatten()):\n",
    "        f, p = sp.signal.periodogram(ts[c][fields[i]]-ptrends[c][fields[i]], 12.0, scaling='spectrum')\n",
    "        freqs[c][fields[i]] = (f,p)\n",
    "        ax.plot(f,p)\n",
    "        ax.set_title(fields[i])\n",
    "        ax.set_yticklabels([])\n",
    "        ax.set_xlabel(\"Frequency (1/year)\")\n",
    "    fig.suptitle(\"Power Spectrum - \"+c)\n",
    "    fig.savefig(\"plots/STL/spectrum_\"+c)"
   ]
  },
  {
   "cell_type": "code",
   "execution_count": null,
   "metadata": {},
   "outputs": [],
   "source": [
    "for c in conditions:\n",
    "    for fi in fields:\n",
    "        f,p = freqs[c][fi]\n",
    "        ordamp10perc = np.flip(np.argsort(p))[:int(len(p)*.01)]\n",
    "        f = pd.unique(f[ordamp10perc].round().astype(int))\n",
    "        freqs[c][fi] = [i for i in f if i > 0]\n",
    "        # Yearly seasonality seems to be always needed\n",
    "        if 1 not in freqs[c][fi]:\n",
    "            freqs[c][fi].append(1)"
   ]
  },
  {
   "cell_type": "markdown",
   "metadata": {},
   "source": [
    "## 3.3. Multi-Seasonal Decomposition"
   ]
  },
  {
   "cell_type": "markdown",
   "metadata": {},
   "source": [
    "### 3.3.1. Decomposition"
   ]
  },
  {
   "cell_type": "code",
   "execution_count": null,
   "metadata": {},
   "outputs": [],
   "source": [
    "# Preparing periods\n",
    "periods = {}\n",
    "for c in conditions:\n",
    "    periods[c] = {}\n",
    "    for f in fields:\n",
    "        frs = freqs[c][f]\n",
    "        # Frequency of 5 cannot be turned in an integer period\n",
    "        periods[c][f] = np.array([ int(12/fr) for fr in frs if fr != 5 ])\n",
    "        periods[c][f].sort()\n",
    "        "
   ]
  },
  {
   "cell_type": "code",
   "execution_count": null,
   "metadata": {},
   "outputs": [],
   "source": [
    "trends = pd.DataFrame().reindex_like(ts)\n",
    "seasons = { c:{f:[] for f in fields} for c in conditions}\n",
    "remains = pd.DataFrame().reindex_like(ts)\n",
    "\n",
    "for c in conditions:\n",
    "    for f in fields:\n",
    "        for p in periods[c][f]:\n",
    "            # Remove previous seasonalities\n",
    "            to_decompose = ts[c][f]\n",
    "            for s in seasons[c][f]:\n",
    "                to_decompose = to_decompose-s\n",
    "            # Decompose and save new seasonality\n",
    "            decomposed = tsa.STL(to_decompose, period=p, robust=True).fit()\n",
    "            seasons[c][f].append(decomposed.seasonal)\n",
    "            # Save trend and residuals\n",
    "            if p == periods[c][f][-1]:\n",
    "                trends.loc[:,(c,f)] = decomposed.trend\n",
    "                remains.loc[:,(c,f)] = decomposed.resid"
   ]
  },
  {
   "cell_type": "markdown",
   "metadata": {},
   "source": [
    "### 3.3.2. Plotting"
   ]
  },
  {
   "cell_type": "code",
   "execution_count": null,
   "metadata": {},
   "outputs": [],
   "source": [
    "# Plotting\n",
    "for c in conditions:\n",
    "    for f in fields:\n",
    "        pers = periods[c][f]\n",
    "        fig = plt.figure(figsize = (10, 10), constrained_layout = True)\n",
    "        gs = mpl.gridspec.GridSpec(3+len(pers),2, figure=fig)\n",
    "        fig.suptitle(c+\" - \"+f, fontsize = 12)\n",
    "        # Observed\n",
    "        oax = fig.add_subplot(gs[0,:])\n",
    "        ts[c][f].plot(ax = oax, ylabel = \"Observed\")\n",
    "        oax.set_xticklabels([])\n",
    "        oax.set_xlabel(None)\n",
    "        # Trend\n",
    "        tax = fig.add_subplot(gs[1,:])\n",
    "        trends[c][f].plot(ax = tax, ylabel = \"Trend\")\n",
    "        tax.set_xticklabels([])\n",
    "        tax.set_xlabel(None)\n",
    "        # Residuals\n",
    "        rax = fig.add_subplot(gs[2,:])\n",
    "        remains[c][f].plot(ax = rax, ylabel = \"Resid\")\n",
    "        # Seasonalities\n",
    "        for i, p in enumerate(pers):\n",
    "            sax = fig.add_subplot(gs[3+i,0])\n",
    "            seasons[c][f][i].plot(ax = sax, ylabel = \"Season\"+str(p))\n",
    "            saax = fig.add_subplot(gs[3+i,1])\n",
    "            tsp.month_plot(seasons[c][f][i], ax = saax)\n",
    "            if i != len(pers)-1:\n",
    "                sax.set_xticklabels([])\n",
    "                sax.set_xlabel(None)\n",
    "                saax.set_xticklabels([])\n",
    "                saax.set_xlabel(None)\n",
    "        fig.savefig(\"plots/STL/multi/\"+c+\"-\"+f)"
   ]
  },
  {
   "cell_type": "markdown",
   "metadata": {},
   "source": [
    "### 3.3.3. Residuals"
   ]
  },
  {
   "cell_type": "code",
   "execution_count": null,
   "metadata": {},
   "outputs": [],
   "source": [
    "for c in conditions:\n",
    "    fig, axs = plt.subplots(5,4, figsize = (16,8), constrained_layout = True)\n",
    "    for i,ax in enumerate(axs.flatten()):\n",
    "        tsp.plot_acf(remains[c][fields[i]], ax, title = fields[i])\n",
    "    fig.suptitle(\"Autocorrelations - \"+c)\n",
    "    fig.savefig(\"plots/STL/multi/resid_autocorr_\"+c)"
   ]
  },
  {
   "cell_type": "code",
   "execution_count": null,
   "metadata": {},
   "outputs": [],
   "source": [
    "res_means = {}\n",
    "for c in conditions:\n",
    "    res_means[c] = {}\n",
    "    for f in fields:\n",
    "        res_means[c][f] = remains[c][f].mean()\n",
    "pd.DataFrame(res_means)"
   ]
  },
  {
   "cell_type": "code",
   "execution_count": null,
   "metadata": {},
   "outputs": [],
   "source": [
    "for c in conditions:\n",
    "    fig, axs = plt.subplots(5,4, figsize = (16,8), constrained_layout = True)\n",
    "    for i, ax in enumerate(axs.flatten()):\n",
    "        ax.hist(remains[c][fields[i]], bins=20, log = True)\n",
    "        ax.set_title(fields[i]+\" ~ \"+str(np.round(res_means[c][fields[i]],2)))\n",
    "    fig.suptitle(\"Distribution - \"+c)\n",
    "    fig.savefig(\"plots/STL/multi/resid_dist_\"+c)"
   ]
  },
  {
   "cell_type": "markdown",
   "metadata": {},
   "source": [
    "## 3.4. Trend Analysis"
   ]
  },
  {
   "cell_type": "code",
   "execution_count": null,
   "metadata": {},
   "outputs": [],
   "source": [
    "ylims = [(0,3), (0, 75), (0, 75)]\n",
    "for k,c in enumerate(conditions):\n",
    "    fig, axs = plt.subplots(5,4, figsize = (18, 12), constrained_layout = True)\n",
    "    for i, ax in enumerate(axs.flatten()):\n",
    "        ax.plot(trends[c][fields[i]], \"r\" if i == 0 else \"b\")\n",
    "        ax.set_title(fields[i])\n",
    "        ax.set_ylim(ylims[k])\n",
    "    fig.suptitle(\"Citations % - \"+c, fontsize = 16)\n",
    "    fig.savefig(\"plots/STL/multi_trends_\"+c)"
   ]
  },
  {
   "cell_type": "code",
   "execution_count": null,
   "metadata": {},
   "outputs": [],
   "source": [
    "def corrs(c, df):\n",
    "    #cmap = sns.diverging_palette(250, 15, s=75, l=40, n=9, center=\"light\", as_cmap=True)\n",
    "    mat = trends[c].loc[:,trends[c].columns!=\"overall\"].corr()\n",
    "    #mask = np.triu(np.ones_like(mat, dtype=bool))\n",
    "    #fig, ax = plt.subplots(figsize=(15, 15))\n",
    "    #sns.heatmap(mat, mask=mask, cmap=cmap, square=True, annot=True, fmt=\".1f\", ax=ax)\n",
    "    #fig.suptitle(\"Trend Correlations - \"+c, fontsize = 16, x = .45, y=1.)\n",
    "    #plt.show()\n",
    "    clus = sns.clustermap(mat, annot=True, figsize=(14, 14))\n",
    "    clus.fig.suptitle(\"Trend Clustermap - \"+c, fontsize = 16, y = 1.)\n",
    "    return clus"
   ]
  },
  {
   "cell_type": "markdown",
   "metadata": {},
   "source": [
    "### 3.2.1. 'Comp' Condition"
   ]
  },
  {
   "cell_type": "code",
   "execution_count": null,
   "metadata": {},
   "outputs": [],
   "source": [
    "comp_clus = corrs(\"Comp\", trends)\n",
    "plt.savefig(\"plots/STL/multi/clust_Comp\")"
   ]
  },
  {
   "cell_type": "code",
   "execution_count": null,
   "metadata": {},
   "outputs": [],
   "source": [
    "c1 = ['history','economics','political science','chemistry','art','psychology','sociology','philosophy','medicine','biology']\n",
    "c2 = ['materials science','computer science','physics']\n",
    "c3 = ['business','geography','engineering','environmental science','mathematics','geology']\n",
    "clusters = [c1,c2,c3]\n",
    "fig, axs = plt.subplots(3, figsize = (10,10), constrained_layout=True)\n",
    "fig.suptitle(\"Clusters - Comp\", fontsize = 16)\n",
    "for i, ax in enumerate(axs.flatten()[:3]):\n",
    "    trends[\"Comp\"][clusters[i]].plot(ylim=(0,3), ax = ax, xlabel = \"\")\n",
    "    trends[\"Comp\"][\"overall\"].plot(label=\"overall\", style=\".\", ax = ax, xlabel=\"\")\n",
    "    ax.legend(loc = (1.01, .0))\n",
    "fig.savefig(\"plots/STL/multi/clusts_Comp\")"
   ]
  },
  {
   "cell_type": "markdown",
   "metadata": {},
   "source": [
    "### 3.2.2. 'CS' Condition"
   ]
  },
  {
   "cell_type": "code",
   "execution_count": null,
   "metadata": {},
   "outputs": [],
   "source": [
    "comp_clus = corrs(\"CS\", trends)\n",
    "plt.savefig(\"plots/STL/multi/clust_CS\")"
   ]
  },
  {
   "cell_type": "code",
   "execution_count": null,
   "metadata": {},
   "outputs": [],
   "source": [
    "c1 = ['philosophy','business','history','economics','sociology','political science','physics','geography']\n",
    "c2 = ['engineering','materials science','computer science', 'mathematics','art']\n",
    "c3 = ['medicine','psychology','biology','chemistry','geology','environmental science']\n",
    "clusters = [c1,c2,c3]\n",
    "fig, axs = plt.subplots(3, figsize = (10,10),constrained_layout = True)\n",
    "fig.suptitle(\"Clusters - CS\", fontsize = 16)\n",
    "for i, ax in enumerate(axs.flatten()[:3]):\n",
    "    trends[\"CS\"][clusters[i]].plot(ylim=(0,75), ax = ax, xlabel = \"\")\n",
    "    trends[\"CS\"][\"overall\"].plot(label=\"overall\", style=\".\", ax = ax, xlabel=\"\")\n",
    "    ax.legend(loc = (1.01, .0))\n",
    "fig.savefig(\"plots/STL/multi/clusts_CS\")"
   ]
  },
  {
   "cell_type": "markdown",
   "metadata": {},
   "source": [
    "# 4. Prophet - Modelling"
   ]
  },
  {
   "cell_type": "markdown",
   "metadata": {},
   "source": [
    "## 4.1. Models"
   ]
  },
  {
   "cell_type": "code",
   "execution_count": null,
   "metadata": {},
   "outputs": [],
   "source": [
    "prophets = {}\n",
    "for c in conditions:\n",
    "    prophets[c] = {}\n",
    "    for f in fields:\n",
    "        tmp = pd.DataFrame(ts[c][f]).reset_index()\n",
    "        tmp.columns = [\"ds\",\"y\"]\n",
    "        mod = pr.Prophet(daily_seasonality = False, weekly_seasonality = False, changepoint_range=.9)\n",
    "        #mod.add_seasonality(name=\"quarterly\", period=365.25/4, fourier_order=10)\n",
    "        mod.fit(tmp)\n",
    "        prophets[c][f] = mod"
   ]
  },
  {
   "cell_type": "code",
   "execution_count": null,
   "metadata": {},
   "outputs": [],
   "source": [
    "forecasts = {}\n",
    "for c in conditions:\n",
    "    forecasts[c] = {}\n",
    "    for f in fields:\n",
    "        mod = prophets[c][f]\n",
    "        fut = mod.make_future_dataframe(periods=12*10, freq = \"MS\")\n",
    "        forecasts[c][f] = mod.predict(fut)"
   ]
  },
  {
   "cell_type": "code",
   "execution_count": null,
   "metadata": {},
   "outputs": [],
   "source": [
    "for c in conditions:\n",
    "    fig, axs = plt.subplots(5,4, figsize = (24,18), constrained_layout = True)\n",
    "    for i,ax in enumerate(axs.flatten()):\n",
    "        mod = prophets[c][fields[i]]\n",
    "        forecast = forecasts[c][fields[i]]\n",
    "        forecast = forecast[:len(forecast)-120]\n",
    "        ax.plot(ts[c][fields[i]])\n",
    "        #mod.plot(forecast, ax=ax, plot_cap=False, xlabel=None, ylabel=\"\", xlabel=\"\")\n",
    "        ax.plot(forecast[\"ds\"], forecast[\"yhat\"])\n",
    "        ax.set_title(fields[i])\n",
    "    fig.suptitle(c, y=1.01)\n",
    "    fig.savefig(\"plots/Prophet/in-out_\"+c)"
   ]
  },
  {
   "cell_type": "markdown",
   "metadata": {},
   "source": [
    "## 4.2. Seasonality Plots"
   ]
  },
  {
   "cell_type": "code",
   "execution_count": null,
   "metadata": {},
   "outputs": [],
   "source": [
    "# From https://github.com/facebook/prophet/blob/main/python/prophet/plot.py\n",
    "from matplotlib.dates import num2date\n",
    "\n",
    "def set_y_as_percent(ax):\n",
    "    yticks = 100 * ax.get_yticks()\n",
    "    yticklabels = ['{0:.4g}%'.format(y) for y in yticks]\n",
    "    ax.set_yticks(ax.get_yticks().tolist())\n",
    "    ax.set_yticklabels(yticklabels)\n",
    "    return ax\n",
    "\n",
    "def plot_seasonality(m, name, ax=None, figsize=(10, 6)):\n",
    "    \"\"\"Plot a custom seasonal component.\n",
    "    Parameters\n",
    "    ----------\n",
    "    m: Prophet model.\n",
    "    name: Seasonality name, like 'daily', 'weekly'.\n",
    "    ax: Optional matplotlib Axes to plot on. One will be created if\n",
    "        this is not provided.\n",
    "    uncertainty: Optional boolean to plot uncertainty intervals, which will\n",
    "        only be done if m.uncertainty_samples > 0.\n",
    "    figsize: Optional tuple width, height in inches.\n",
    "    Returns\n",
    "    -------\n",
    "    a list of matplotlib artists\n",
    "    \"\"\"\n",
    "    artists = []\n",
    "    if not ax:\n",
    "        fig = plt.figure(facecolor='w', figsize=figsize)\n",
    "        ax = fig.add_subplot(111)\n",
    "    # Compute seasonality from Jan 1 through a single period.\n",
    "    start = pd.to_datetime('2017-01-01 0000')\n",
    "    period = m.seasonalities[name]['period']\n",
    "    end = start + pd.Timedelta(days=period)\n",
    "    plot_points = 200\n",
    "    days = pd.to_datetime(np.linspace(start.value, end.value, plot_points))\n",
    "    df_y = pr.plot.seasonality_plot_df(m, days)\n",
    "    # NOTE: changes here\n",
    "    ax.grid(True, which='major', c='gray', ls='-', lw=1, alpha=0.2)\n",
    "    n_ticks = round(12*period/365.25)\n",
    "    xticks = pd.to_datetime(np.linspace(start.value, end.value, n_ticks)).to_pydatetime()\n",
    "    seas = m.predict_seasonal_components(df_y)[name]\n",
    "    seas = np.array_split(seas, n_ticks)\n",
    "    seas = [i.mean() for i in seas]\n",
    "    artists += ax.plot(xticks, seas, ls='-', c='#0072B2')\n",
    "    # NOTE: changes here (uncertainty missing)\n",
    "    ax.set_xticks(xticks)\n",
    "    # NOTE: changes here\n",
    "    fmt = mpl.ticker.FuncFormatter(\n",
    "        lambda x, pos=None: '{dt:%b}'.format(dt=num2date(x)))\n",
    "    ax.set_xlabel('Month')\n",
    "    ax.xaxis.set_major_formatter(fmt)\n",
    "    ax.set_ylabel(name)\n",
    "    if m.seasonalities[name]['mode'] == 'multiplicative':\n",
    "        ax = set_y_as_percent(ax)\n",
    "    return artists"
   ]
  },
  {
   "cell_type": "code",
   "execution_count": null,
   "metadata": {},
   "outputs": [],
   "source": [
    "# Plot seasonality\n",
    "season_name = \"yearly\"\n",
    "for c in conditions[:2]:\n",
    "    fig, axs = plt.subplots(5,4, figsize = (18,12), constrained_layout = True)\n",
    "    for i,ax in enumerate(axs.flatten()):\n",
    "        mod = prophets[c][fields[i]]\n",
    "        pr.plot.plot_yearly(mod, ax = ax)\n",
    "        #plot_seasonality(mod, name=season_name, ax = ax)\n",
    "        fmt = mpl.ticker.FuncFormatter(lambda x, pos=None: '{dt:%b}'.format(dt=num2date(x)))\n",
    "        ax.xaxis.set_major_formatter(fmt)\n",
    "        ax.set_xlabel(\"\")\n",
    "        ax.set_title(fields[i])\n",
    "    fig.suptitle(c)\n",
    "    fig.savefig(\"plots/Prophet/seasons_\"+c)"
   ]
  },
  {
   "cell_type": "markdown",
   "metadata": {},
   "source": [
    "## 4.3. Trends"
   ]
  },
  {
   "cell_type": "code",
   "execution_count": null,
   "metadata": {},
   "outputs": [],
   "source": [
    "for c in conditions[:2]:\n",
    "    fig, axs = plt.subplots(5,4, figsize = (18,12), constrained_layout = True)\n",
    "    for i,ax in enumerate(axs.flatten()):\n",
    "        mod = prophets[c][fields[i]]\n",
    "        forecast = forecasts[c][fields[i]]\n",
    "        forecast = forecast[:len(forecast)-120]\n",
    "        pr.plot.plot_forecast_component(mod, forecast, \"trend\", ax)\n",
    "        ax.plot(trends[c][fields[i]], 'orange')\n",
    "        pr.plot.add_changepoints_to_plot(ax, mod, forecast, trend = False)\n",
    "        ax.set_title(fields[i])\n",
    "        ax.set_ylabel(\"\")\n",
    "        ax.set_xlabel(\"\")\n",
    "\n",
    "    fig.suptitle(c)\n",
    "    fig.savefig(\"plots/Prophet/trends_\"+c)"
   ]
  },
  {
   "cell_type": "markdown",
   "metadata": {},
   "source": [
    "## 4.4. Forecasts"
   ]
  },
  {
   "cell_type": "code",
   "execution_count": null,
   "metadata": {},
   "outputs": [],
   "source": [
    "# From prophet.plot.py\n",
    "def plot(\n",
    "    m, fcst, ax=None, uncertainty=True, plot_cap=True, xlabel='ds', ylabel='y',\n",
    "    figsize=(10, 6), include_legend=False\n",
    "):\n",
    "    \"\"\"Plot the Prophet forecast.\n",
    "    Parameters\n",
    "    ----------\n",
    "    m: Prophet model.\n",
    "    fcst: pd.DataFrame output of m.predict.\n",
    "    ax: Optional matplotlib axes on which to plot.\n",
    "    uncertainty: Optional boolean to plot uncertainty intervals, which will\n",
    "        only be done if m.uncertainty_samples > 0.\n",
    "    plot_cap: Optional boolean indicating if the capacity should be shown\n",
    "        in the figure, if available.\n",
    "    xlabel: Optional label name on X-axis\n",
    "    ylabel: Optional label name on Y-axis\n",
    "    figsize: Optional tuple width, height in inches.\n",
    "    include_legend: Optional boolean to add legend to the plot.\n",
    "    Returns\n",
    "    -------\n",
    "    A matplotlib figure.\n",
    "    \"\"\"\n",
    "    if ax is None:\n",
    "        fig = plt.figure(facecolor='w', figsize=figsize)\n",
    "        ax = fig.add_subplot(111)\n",
    "    else:\n",
    "        fig = ax.get_figure()\n",
    "    fcst_t = fcst['ds'].dt.to_pydatetime()\n",
    "    ax.plot(fcst_t, fcst['yhat'], ls='-', c='#0072B2', label='Forecast')\n",
    "    if 'cap' in fcst and plot_cap:\n",
    "        ax.plot(fcst_t, fcst['cap'], ls='--', c='k', label='Maximum capacity')\n",
    "    if m.logistic_floor and 'floor' in fcst and plot_cap:\n",
    "        ax.plot(fcst_t, fcst['floor'], ls='--', c='k', label='Minimum capacity')\n",
    "    if uncertainty and m.uncertainty_samples:\n",
    "        ax.fill_between(fcst_t, fcst['yhat_lower'], fcst['yhat_upper'],\n",
    "                        color='#0072B2', alpha=0.2, label='Uncertainty interval')\n",
    "    # Specify formatting to workaround matplotlib issue #12925\n",
    "    locator = mpl.dates.AutoDateLocator(interval_multiples=False)\n",
    "    formatter = mpl.dates.AutoDateFormatter(locator)\n",
    "    ax.xaxis.set_major_locator(locator)\n",
    "    ax.xaxis.set_major_formatter(formatter)\n",
    "    ax.grid(True, which='major', c='gray', ls='-', lw=1, alpha=0.2)\n",
    "    ax.set_xlabel(xlabel)\n",
    "    ax.set_ylabel(ylabel)\n",
    "    if include_legend:\n",
    "        ax.legend()\n",
    "    return fig"
   ]
  },
  {
   "cell_type": "code",
   "execution_count": null,
   "metadata": {},
   "outputs": [],
   "source": [
    "for c in conditions:\n",
    "    fig, axs = plt.subplots(5,4, figsize = (18,12), constrained_layout = True)\n",
    "    for i,ax in enumerate(axs.flatten()):\n",
    "        mod = prophets[c][fields[i]]\n",
    "        forecast = forecasts[c][fields[i]]\n",
    "        forecast = forecast[len(ts[c][fields[i]]):len(forecast)-60]\n",
    "        ax.plot(ts[c][fields[i]][12*35:])\n",
    "        plot(mod, forecast, ax=ax, plot_cap=False, xlabel=None, ylabel=\"%\",)\n",
    "        ax.set_title(fields[i])\n",
    "    fig.suptitle(c)\n",
    "    fig.savefig(\"plots/Prophet/forecasts_\"+c)"
   ]
  },
  {
   "cell_type": "markdown",
   "metadata": {},
   "source": [
    "## 4.5. Evaluation"
   ]
  },
  {
   "cell_type": "code",
   "execution_count": null,
   "metadata": {},
   "outputs": [],
   "source": [
    "pro_cvs = {}\n",
    "for c in conditions:\n",
    "    pro_cvs[c] = {}\n",
    "    for f in fields:\n",
    "        res = pr.diagnostics.cross_validation(prophets[c][f], initial = str(365.25*30)+' days', horizon = str(365.25*5)+' days', parallel = 'threads')\n",
    "        pro_cvs[c][f] = pr.diagnostics.performance_metrics(res, monthly=True)"
   ]
  },
  {
   "cell_type": "code",
   "execution_count": null,
   "metadata": {},
   "outputs": [],
   "source": [
    "for c in conditions:\n",
    "    fig, axs = plt.subplots(5,4, figsize = (18,12), constrained_layout = True)\n",
    "    for i, ax in enumerate(axs.flatten()):\n",
    "        cvres = pro_cvs[c][fields[i]]\n",
    "#        pr.plot.plot_cross_validation_metric(cvres, \"mape\")\n",
    "        ax.plot([ t for t in cvres[\"horizon\"]],cvres['mape']*100)\n",
    "        ax.set_title(fields[i])\n",
    "        if i > 15:\n",
    "            ax.set_xlabel(\"Horizon (months)\")\n",
    "        if i%4 == 0:\n",
    "            ax.set_ylabel(\"% Error\")\n",
    "    fig.suptitle(c)\n",
    "    fig.savefig(\"plots/Prophet/evals_\"+c)"
   ]
  }
 ],
 "metadata": {
  "interpreter": {
   "hash": "19b6920eaddeb29f5d5fa641abd166d786f7b24bf430c62e94cc75dc3f3ba953"
  },
  "kernelspec": {
   "display_name": "Python 3.9.7 64-bit ('sddm': conda)",
   "language": "python",
   "name": "python3"
  },
  "language_info": {
   "codemirror_mode": {
    "name": "ipython",
    "version": 3
   },
   "file_extension": ".py",
   "mimetype": "text/x-python",
   "name": "python",
   "nbconvert_exporter": "python",
   "pygments_lexer": "ipython3",
   "version": "3.9.7"
  },
  "orig_nbformat": 4
 },
 "nbformat": 4,
 "nbformat_minor": 2
}
